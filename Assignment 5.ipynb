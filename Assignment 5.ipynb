{
 "cells": [
  {
   "cell_type": "code",
   "execution_count": 5,
   "metadata": {},
   "outputs": [
    {
     "name": "stdout",
     "output_type": "stream",
     "text": [
      "Enter a number:4\n",
      "24\n"
     ]
    }
   ],
   "source": [
    "# Question:1\n",
    "# Write a Python function to calculate the factorial of a number (a non-negative\n",
    "# integer). The function accepts the number as an argument.\n",
    "import math\n",
    "def factorial(num):\n",
    "    print(math.factorial(num))\n",
    " \n",
    "\n",
    "x=int(input(\"Enter a number:\"))\n",
    "factorial(x)\n",
    "  "
   ]
  },
  {
   "cell_type": "code",
   "execution_count": 7,
   "metadata": {},
   "outputs": [
    {
     "name": "stdout",
     "output_type": "stream",
     "text": [
      "Enter String: Usman Ali\n",
      "UpperCase: 2\n",
      "LowerCase 6\n"
     ]
    }
   ],
   "source": [
    "# Question:2\n",
    "# Write a Python function that accepts a string and calculate the number of upper\n",
    "# case letters and lower case letters.\n",
    "\n",
    "def my_Func(str):\n",
    "    lower=0\n",
    "    capital=0\n",
    "    for i in str:\n",
    "        if(i.islower()):\n",
    "            lower=lower+1\n",
    "        elif(i.isupper()):\n",
    "            capital=capital+1\n",
    "\n",
    "    print(\"UpperCase:\",capital)\n",
    "    print(\"LowerCase\",lower)\n",
    "            \n",
    "mystr = input(\"Enter String: \")\n",
    "my_Func(mystr)"
   ]
  },
  {
   "cell_type": "code",
   "execution_count": 10,
   "metadata": {},
   "outputs": [
    {
     "name": "stdout",
     "output_type": "stream",
     "text": [
      "[2, 4, 6, 6, 8, 10]\n"
     ]
    }
   ],
   "source": [
    "# Question:3\n",
    "# Write a Python function to print the even numbers from a given list.\n",
    "\n",
    "def my_Func(x):\n",
    "    mylist = []\n",
    "    for n in x:\n",
    "        if n % 2 == 0:\n",
    "            mylist.append(n)\n",
    "    return mylist\n",
    "\n",
    "lis=[2,3,4,5,6,1,6,7,8,9,10]\n",
    "print(my_Func(lis))\n",
    "\n"
   ]
  },
  {
   "cell_type": "code",
   "execution_count": 13,
   "metadata": {},
   "outputs": [
    {
     "name": "stdout",
     "output_type": "stream",
     "text": [
      "Enter a string: dad\n",
      "Yes\n"
     ]
    }
   ],
   "source": [
    "# Question:4\n",
    "# Write a Python function that checks whether a passed string is palindrome or not.\n",
    "# Note: A palindrome is a word, phrase, or sequence that reads the same\n",
    "# backward as forward, e.g., madam\n",
    "\n",
    "def my_Func(s):  \n",
    "    rev = s[::-1] \n",
    "    \n",
    "    if (s == rev): \n",
    "        return True\n",
    "    else:\n",
    "        return False\n",
    "    \n",
    "\n",
    "str= input(\"Enter a string: \")\n",
    "y = my_Func(str) \n",
    "  \n",
    "if y == 1: \n",
    "    print(\"Yes\") \n",
    "else: \n",
    "    print(\"No\")"
   ]
  },
  {
   "cell_type": "code",
   "execution_count": 15,
   "metadata": {},
   "outputs": [
    {
     "name": "stdout",
     "output_type": "stream",
     "text": [
      "Enter an integer: 7\n",
      "7 is a Prime Number\n"
     ]
    }
   ],
   "source": [
    "# Question:5\n",
    "# Write a Python function that takes a number as a parameter and check the\n",
    "# number is prime or not.\n",
    "\n",
    "def prime_no(x):\n",
    "    num = x\n",
    "    if num > 1:\n",
    "        for i in range(2,num):\n",
    "            if (num % i) == 0:\n",
    "                print(num,\"is not a Prime Number\")\n",
    "                break\n",
    "        else:\n",
    "            print(num,\"is a Prime Number\")\n",
    "            \n",
    "a = int(input(\"Enter an integer: \"))\n",
    "prime_no(a)"
   ]
  },
  {
   "cell_type": "code",
   "execution_count": 20,
   "metadata": {},
   "outputs": [
    {
     "name": "stdout",
     "output_type": "stream",
     "text": [
      "Customer's Items:\n",
      "Fish\n",
      "Vegetable\n",
      "Sugar\n"
     ]
    }
   ],
   "source": [
    "# Question: 6\n",
    "# Suppose a customer is shopping in a market and you need to print all the items\n",
    "# which user bought from market.\n",
    "# Write a function which accepts the multiple arguments of user shopping list and\n",
    "# print all the items which user bought from market.\n",
    "\n",
    "\n",
    "def shopping(*items):\n",
    "    for x in items:\n",
    "        print(x)\n",
    "\n",
    "print(\"Customer's Items:\")\n",
    "shopping(\"Fish\",\"Vegetable\",\"Sugar\")"
   ]
  },
  {
   "cell_type": "code",
   "execution_count": null,
   "metadata": {},
   "outputs": [],
   "source": []
  }
 ],
 "metadata": {
  "kernelspec": {
   "display_name": "Python 3",
   "language": "python",
   "name": "python3"
  },
  "language_info": {
   "codemirror_mode": {
    "name": "ipython",
    "version": 3
   },
   "file_extension": ".py",
   "mimetype": "text/x-python",
   "name": "python",
   "nbconvert_exporter": "python",
   "pygments_lexer": "ipython3",
   "version": "3.7.3"
  }
 },
 "nbformat": 4,
 "nbformat_minor": 2
}
