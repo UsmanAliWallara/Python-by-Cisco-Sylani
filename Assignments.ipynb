{
 "cells": [
  {
   "cell_type": "markdown",
   "metadata": {},
   "source": [
    "# Assignment-1"
   ]
  },
  {
   "cell_type": "code",
   "execution_count": 7,
   "metadata": {},
   "outputs": [
    {
     "name": "stdout",
     "output_type": "stream",
     "text": [
      "Twinkle, twinkle, little star,\n",
      " \tHow I wonder what you are!\n",
      "\tUp above the world so high,\n",
      "\tLike a diamond in the sky.\n",
      "Twinkle, twinkle, little star,\n",
      "\tHow I wonder what you are\n"
     ]
    }
   ],
   "source": [
    "print(\"Twinkle, twinkle, little star,\\n \\tHow I wonder what you are!\\n\\tUp above the world so high,\\n\\tLike a diamond in the sky.\\nTwinkle, twinkle, little star,\\n\\tHow I wonder what you are\")"
   ]
  },
  {
   "cell_type": "code",
   "execution_count": 2,
   "metadata": {},
   "outputs": [
    {
     "name": "stdout",
     "output_type": "stream",
     "text": [
      "3.7.3 (default, Apr 24 2019, 15:29:51) [MSC v.1915 64 bit (AMD64)]\n"
     ]
    }
   ],
   "source": [
    "# Write a Python program to get the Python version you are using\n",
    "import sys\n",
    "print(sys.version)"
   ]
  },
  {
   "cell_type": "code",
   "execution_count": 3,
   "metadata": {},
   "outputs": [
    {
     "name": "stdout",
     "output_type": "stream",
     "text": [
      "2019-11-28 21:00:16.673407\n"
     ]
    }
   ],
   "source": [
    "# Write a Python program to display the current date and time\n",
    "import datetime as dt\n",
    "print(dt.datetime.now())"
   ]
  },
  {
   "cell_type": "code",
   "execution_count": 5,
   "metadata": {},
   "outputs": [
    {
     "name": "stdout",
     "output_type": "stream",
     "text": [
      "Enter the Radius:2\n",
      "12.568\n"
     ]
    }
   ],
   "source": [
    "# Write a Python program which accepts the radius of a circle from the user and compute the area.\n",
    "pi=3.142\n",
    "a = float(input(\"Enter the Radius:\"))\n",
    "print((a*a)*(pi))"
   ]
  },
  {
   "cell_type": "code",
   "execution_count": 6,
   "metadata": {},
   "outputs": [
    {
     "name": "stdout",
     "output_type": "stream",
     "text": [
      "Enter your First Name:Usman\n",
      "Enter your Last Name:Ali\n",
      "Ali   Usman\n"
     ]
    }
   ],
   "source": [
    "# Write a Python program which accepts the user's first and last name and print them in reverse order with a space between them.\n",
    "fName= input(\"Enter your First Name:\")\n",
    "lName= input(\"Enter your Last Name:\")\n",
    "\n",
    "print(lName,\" \",fName)"
   ]
  },
  {
   "cell_type": "markdown",
   "metadata": {},
   "source": [
    "# Assignment-2"
   ]
  },
  {
   "cell_type": "code",
   "execution_count": 8,
   "metadata": {},
   "outputs": [
    {
     "name": "stdout",
     "output_type": "stream",
     "text": [
      "Enter marks of the Eng subject: 96\n",
      "Enter marks of the Urdu subject: 95\n",
      "Enter marks of the Isl subject: 99\n",
      "Enter marks of the Maths subject: 85\n",
      "Enter marks of the Gk subject: 90\n",
      "Grade: A\n",
      "Total Marks: 465\n"
     ]
    }
   ],
   "source": [
    "# Write a program which takes 5 inputs from user for different subject’s marks, total it and generate mark sheet using grades?\n",
    "mDBMS=int(input(\"Enter marks of the Eng subject: \"))\n",
    "mDLD=int(input(\"Enter marks of the Urdu subject: \"))\n",
    "mENG=int(input(\"Enter marks of the Isl subject: \"))\n",
    "mARABIC=int(input(\"Enter marks of the Maths subject: \"))\n",
    "mSTATS=int(input(\"Enter marks of the Gk subject: \"))\n",
    "tMarks =mDBMS+mDLD+mENG+mARABIC+mSTATS\n",
    "avg=int((tMarks)/5)\n",
    "if(avg>=90):\n",
    "    print(\"Grade: A\")\n",
    "elif(avg>=80&avg<90):\n",
    "    print(\"Grade: B\")\n",
    "elif(avg>=70&avg<80):\n",
    "    print(\"Grade: C\")\n",
    "elif(avg>=60&avg<70):\n",
    "    print(\"Grade: D\")\n",
    "else:\n",
    "    print(\"Grade: F\")\n",
    "    \n",
    "print(\"Total Marks:\",tMarks)"
   ]
  },
  {
   "cell_type": "code",
   "execution_count": 11,
   "metadata": {},
   "outputs": [
    {
     "name": "stdout",
     "output_type": "stream",
     "text": [
      "Enter a number: 9\n",
      "ODD Number\n"
     ]
    }
   ],
   "source": [
    "# Write a program which take input from user and identify that the given number is even or odd?\n",
    "num = int(input(\"Enter a number: \"))\n",
    "if (num % 2) != 0:\n",
    "   print(\"ODD Number\")\n",
    "else:\n",
    "   print(\"EVEN Number\")"
   ]
  },
  {
   "cell_type": "code",
   "execution_count": 16,
   "metadata": {},
   "outputs": [
    {
     "name": "stdout",
     "output_type": "stream",
     "text": [
      "Length Of List is :  6\n"
     ]
    }
   ],
   "source": [
    "# Write a program which print the length of the list?\n",
    "list1= [3483, 'Ali', 'Usman','Sylani','Python',7]\n",
    "print(\"Length Of List is : \", len(list1))"
   ]
  },
  {
   "cell_type": "code",
   "execution_count": 21,
   "metadata": {},
   "outputs": [
    {
     "name": "stdout",
     "output_type": "stream",
     "text": [
      "Sum of elements in given list is : 15\n"
     ]
    }
   ],
   "source": [
    "# Write a Python program to sum all the numeric items in a list?\n",
    "lst = [1,2,3,4,5]\n",
    "\n",
    "print(\"Sum of elements in given list is :\", sum(lst))"
   ]
  },
  {
   "cell_type": "code",
   "execution_count": 22,
   "metadata": {},
   "outputs": [
    {
     "name": "stdout",
     "output_type": "stream",
     "text": [
      "Max value = 5\n"
     ]
    }
   ],
   "source": [
    "# Write a Python program to get the largest number from a numeric list.\n",
    "lst1= [1,2,3,4,5]\n",
    "print(\"Max value =\",max(lst1))"
   ]
  },
  {
   "cell_type": "code",
   "execution_count": 24,
   "metadata": {},
   "outputs": [
    {
     "name": "stdout",
     "output_type": "stream",
     "text": [
      "[1, 1, 2, 3]\n"
     ]
    }
   ],
   "source": [
    "# Take a list, say for example this one:\n",
    "# a = [1, 1, 2, 3, 5, 8, 13, 21, 34, 55, 89]\n",
    "# and write a program that prints out all the elements of the list that are less than 5.\n",
    "\n",
    "a = [1, 1, 2, 3, 5, 8, 13, 21, 34, 55, 89]\n",
    "x = []\n",
    "\n",
    "for values in a:\n",
    "    if values <5:\n",
    "        x.append(values)\n",
    "        \n",
    "print(x)"
   ]
  },
  {
   "cell_type": "markdown",
   "metadata": {},
   "source": [
    "# Assignment-3"
   ]
  },
  {
   "cell_type": "code",
   "execution_count": 28,
   "metadata": {},
   "outputs": [
    {
     "name": "stdout",
     "output_type": "stream",
     "text": [
      "Select an operation \n",
      " 1.Addition \n",
      " 2.Subtraction \n",
      " 3.Multiplication \n",
      " 4.Division \n",
      " 5.Power\n",
      "\n",
      "Enter Operator: 1\n",
      "Enter first number: 9\n",
      "Enter second number:11\n",
      "9.0 + 11.0 = 20.0\n"
     ]
    }
   ],
   "source": [
    "# Make a calculator using Python with addition , subtraction , multiplication ,division and power.\n",
    "\n",
    "print(\"Select an operation \\n 1.Addition \\n 2.Subtraction \\n 3.Multiplication \\n 4.Division \\n 5.Power\")\n",
    "\n",
    "\n",
    "oper=int(input(\"\\nEnter Operator: \"))\n",
    "n1 = float(input(\"Enter first number: \"))\n",
    "n2 = float(input(\"Enter second number:\"))\n",
    "\n",
    "if oper == 1:\n",
    "   print(n1,\"+\",n2,\"=\", (n1+n2))\n",
    "elif oper == 2:\n",
    "   print(n1,\"-\",n2,\"=\", (n1-n2))\n",
    "elif oper == 3:\n",
    "   print(n1,\"*\",n2,\"=\", (n1*n2))\n",
    "elif oper == 4:\n",
    "   print(n1,\"/\",n2,\"=\", (n1/n2))\n",
    "elif oper == 5:\n",
    "   print(n1,\"^\",n2,\"=\", (n1**n2))\n",
    "else:\n",
    "   print(\"Invalid Operator\")"
   ]
  },
  {
   "cell_type": "code",
   "execution_count": 35,
   "metadata": {},
   "outputs": [
    {
     "name": "stdout",
     "output_type": "stream",
     "text": [
      "['007', '900', 'Banana', '700', '4', 'apple']\n"
     ]
    }
   ],
   "source": [
    "# Write a program to check if there is any numeric value in list using for loop\n",
    "mylist=['007','900','Banana','700','4','apple']\n",
    "for s in mylist:\n",
    "    if s.isdigit()== True:\n",
    "        pass \n",
    "\n",
    "print(mylist)"
   ]
  },
  {
   "cell_type": "code",
   "execution_count": 40,
   "metadata": {},
   "outputs": [
    {
     "name": "stdout",
     "output_type": "stream",
     "text": [
      "Old Dict is:  {'key1': 'Quaid', 'key3': 'Azam'}\n",
      "Enter key value to add:-e-\n",
      "Updated Dict is:  {'key1': 'Quaid', 'key3': 'Azam', 'key2': '-e-'}\n"
     ]
    }
   ],
   "source": [
    "# Write a Python script to add a key to a dictionary\n",
    "dict = {'key1':'Quaid', 'key3':'Azam'} \n",
    "print(\"Old Dict is: \", dict) \n",
    "  \n",
    "dict['key2'] = input(\"Enter key value to add:\")\n",
    "print(\"Updated Dict is: \", dict)"
   ]
  },
  {
   "cell_type": "code",
   "execution_count": 41,
   "metadata": {},
   "outputs": [
    {
     "name": "stdout",
     "output_type": "stream",
     "text": [
      "Sum of numeric values in the dictionary is: 10\n"
     ]
    }
   ],
   "source": [
    "# Write a Python program to sum all the numeric items in a dictionary\n",
    "numbers={'A1':1,'B1':2,'C1':3,'D1':4}\n",
    "print(\"Sum of numeric values in the dictionary is:\",sum(numbers.values()))"
   ]
  },
  {
   "cell_type": "code",
   "execution_count": 42,
   "metadata": {},
   "outputs": [
    {
     "name": "stdout",
     "output_type": "stream",
     "text": [
      "[1, 2]\n"
     ]
    }
   ],
   "source": [
    "# Write a program to identify duplicate values from list\n",
    "repeated = []  \n",
    "lst = [1,2,3,1,4,5,2,1,6,7,8,2]\n",
    "for i in range(len(lst)): \n",
    "        k = i + 1\n",
    "        for j in range(k,len(lst)): \n",
    "            if lst[i] == lst[j] and lst[i] not in repeated: \n",
    "                repeated.append(lst[i])\n",
    "print (repeated)"
   ]
  },
  {
   "cell_type": "code",
   "execution_count": 46,
   "metadata": {},
   "outputs": [
    {
     "name": "stdout",
     "output_type": "stream",
     "text": [
      "Enter a key:z\n",
      "Key Exists\n"
     ]
    }
   ],
   "source": [
    "# Write a Python script to check if a given key already exists in a dictionary\n",
    "dict = {'x': 120, 'y':320, 'z':520} \n",
    "key = input(\"Enter a key:\")\n",
    "if key in dict.keys(): \n",
    "    print(\"Key Exists\") \n",
    "     \n",
    "else: \n",
    "    print(\"Key Not Exists\")"
   ]
  },
  {
   "cell_type": "code",
   "execution_count": null,
   "metadata": {},
   "outputs": [],
   "source": []
  },
  {
   "cell_type": "code",
   "execution_count": null,
   "metadata": {},
   "outputs": [],
   "source": []
  }
 ],
 "metadata": {
  "kernelspec": {
   "display_name": "Python 3",
   "language": "python",
   "name": "python3"
  },
  "language_info": {
   "codemirror_mode": {
    "name": "ipython",
    "version": 3
   },
   "file_extension": ".py",
   "mimetype": "text/x-python",
   "name": "python",
   "nbconvert_exporter": "python",
   "pygments_lexer": "ipython3",
   "version": "3.7.3"
  }
 },
 "nbformat": 4,
 "nbformat_minor": 2
}
