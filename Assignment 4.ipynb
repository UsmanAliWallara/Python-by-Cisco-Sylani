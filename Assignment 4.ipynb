{
 "cells": [
  {
   "cell_type": "markdown",
   "metadata": {},
   "source": [
    "# Assignment 04"
   ]
  },
  {
   "cell_type": "code",
   "execution_count": 6,
   "metadata": {},
   "outputs": [
    {
     "name": "stdout",
     "output_type": "stream",
     "text": [
      "{'first_name': 'Usman', 'last_name': 'Ali', 'age': 21, 'city': 'Karachi'}\n",
      "{'first_name': 'Usman', 'last_name': 'Ali', 'age': 21, 'city': 'Karachi', 'qualification': 'Matric'}\n",
      "{'first_name': 'Usman', 'last_name': 'Ali', 'age': 21, 'city': 'Karachi', 'qualification': 'Intermediate'}\n",
      "{'first_name': 'Usman', 'last_name': 'Ali', 'age': 21, 'city': 'Karachi'}\n"
     ]
    }
   ],
   "source": [
    "# Use a dictionary to store information about a person you know. Store their first name, last name, \n",
    "# age, and the city in which they live. You should have keys such as first_name, last_name, age, \n",
    "# and city. Print each piece of information stored in your dictionary. Add a new key value \n",
    "# pair about qualification then update the qualification value to high academic level then delete it.\n",
    "\n",
    "dict={\"first_name\":\"Usman\" ,\"last_name\": \"Ali\",\"age\":21 ,\"city\":\"Karachi\"}\n",
    "print(dict)\n",
    "dict[\"qualification\"]=\"Matric\"\n",
    "print(dict)\n",
    "dict.update({\"qualification\":\"Intermediate\"})\n",
    "print(dict)\n",
    "del dict[\"qualification\"]\n",
    "print(dict)"
   ]
  },
  {
   "cell_type": "code",
   "execution_count": 8,
   "metadata": {},
   "outputs": [
    {
     "name": "stdout",
     "output_type": "stream",
     "text": [
      "{'Karachi': {'Country': 'Pakistan', 'Population': '14.9 million', 'Fact': 'City Of Lights'}, 'Istanbul': {'Country': 'Turkey', 'Population': '15.07 million', 'Fact': 'The highest point in Turkey is Mount Ararat 5137'}, 'Beijing': {'Country': 'China', 'Population': '1.386 billion', 'Fact': 'Ancient China was a land of invention'}}\n"
     ]
    }
   ],
   "source": [
    "# Make a dictionary called cities. Use the names of three cities as keys in your dictionary. \n",
    "# Create a dictionary of information about each city and include the country that the city is in, \n",
    "# its approximate population, and one fact about that city. The keys for each city’s dictionary \n",
    "# should be something like country, population, and fact. Print the name of each city and all\n",
    "# of the information you have stored about it.\n",
    "\n",
    "cities={\"Karachi\":{\"Country\":\"Pakistan\",\"Population\":\"14.9 million\",\"Fact\":\"City Of Lights\"},\"Istanbul\":{\"Country\":\"Turkey\",\"Population\":\"15.07 million\",\"Fact\":\"The highest point in Turkey is Mount Ararat 5137\"},\"Beijing\":{\"Country\":\"China\",\"Population\":\"1.386 billion\",\"Fact\":\"Ancient China was a land of invention\"}}\n",
    "print(cities)"
   ]
  },
  {
   "cell_type": "code",
   "execution_count": 3,
   "metadata": {},
   "outputs": [
    {
     "name": "stdout",
     "output_type": "stream",
     "text": [
      "Enter your age:11\n",
      "Ticket is 12$\n"
     ]
    }
   ],
   "source": [
    "# A movie theater charges different ticket prices depending on a person’s age. If a person is under the age of 3,\n",
    "# the ticket is free; if they are between 3 and 12, the ticket is $10; and if they are over age 12, the ticket is $15. \n",
    "# Write a loop in which you ask users their age, awnd then tell them the cost of their movie ticket.\n",
    "age=int(input(\"Enter your age:\"))\n",
    "while age<3:\n",
    "    print(\"Ticket is free\")\n",
    "    break\n",
    "if age>=3 and age<=12:\n",
    "    print(\"Ticket is 12$\")\n",
    "elif age>12:\n",
    "    print(\"Ticket is 15$\")  "
   ]
  },
  {
   "cell_type": "code",
   "execution_count": 11,
   "metadata": {},
   "outputs": [
    {
     "name": "stdout",
     "output_type": "stream",
     "text": [
      "One of my favorite books is: Alice in Wonderland\n",
      "None\n"
     ]
    }
   ],
   "source": [
    "# Write a function called favorite_book() that accepts one parameter, title. The function should print a message,\n",
    "# such as One of my favorite books is Alice in Wonderland. Call the function, making sure to include \n",
    "# a book title as an argument in the function call.\n",
    "\n",
    "def favorite_book(b_title):\n",
    "    return print(\"One of my favorite books is:\",b_title)\n",
    "\n",
    "b_title=\"Alice in Wonderland\"\n",
    "print(favorite_book(b_title))"
   ]
  },
  {
   "cell_type": "code",
   "execution_count": 46,
   "metadata": {},
   "outputs": [
    {
     "name": "stdout",
     "output_type": "stream",
     "text": [
      "Enter a number:3\n",
      "remaining chances: 2\n",
      "Enter a number:1\n",
      "remaining chances: 1\n",
      "Enter a number:4\n",
      "remaining chances: 0\n",
      "You Lost The Game.\n",
      "Game Over...!\n"
     ]
    }
   ],
   "source": [
    "# Guess the number game\n",
    "# Write a program which randomly generate a number between 1 to 30 and ask the user in input field to guess the correct \n",
    "# number. Give three chances to user guess the number and also give hint to user if hidden number is greater or smaller \n",
    "# than the number he given to input field.\n",
    "\n",
    "import random\n",
    "x=(random.randrange(1,31))\n",
    "\n",
    "for i in range(-2,1):\n",
    "    u_num=int(input(\"Enter a number:\"))\n",
    "    if x == u_num:\n",
    "        print(\"You Won...!\")\n",
    "        break\n",
    "    else:\n",
    "        print(\"remaining chances:\",-i)\n",
    "        won=0\n",
    "if won==0:        \n",
    "    print(\"You Lost The Game.\")\n",
    "    print(\"Game Over...!\")\n"
   ]
  }
 ],
 "metadata": {
  "kernelspec": {
   "display_name": "Python 3",
   "language": "python",
   "name": "python3"
  },
  "language_info": {
   "codemirror_mode": {
    "name": "ipython",
    "version": 3
   },
   "file_extension": ".py",
   "mimetype": "text/x-python",
   "name": "python",
   "nbconvert_exporter": "python",
   "pygments_lexer": "ipython3",
   "version": "3.7.3"
  }
 },
 "nbformat": 4,
 "nbformat_minor": 2
}
