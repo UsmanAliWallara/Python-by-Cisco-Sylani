{
 "cells": [
  {
   "cell_type": "markdown",
   "metadata": {},
   "source": [
    "# Object-oriented programming¶\n",
    "Object-oriented programming (OOP) refers to a type of computer programming (software design) in which programmers define the data type of a data structure, and also the types of operations (functions) that can be applied to the data structure. For example, objects can inherit characteristics from other objects."
   ]
  },
  {
   "cell_type": "markdown",
   "metadata": {},
   "source": [
    "# #Benefits of OOP\n",
    "1-It provides a clear modular structure for programs which makes it good for defining abstract datatypes in which implementation details are hidden 2-Objects can also be reused within an across applications. The reuse of software also lowers the cost of development. More effort is put into the object-oriented analysis and design, which lowers the overall cost of development. 3-It makes software easier to maintain. Since the design is modular, part of the system can be updated in case of issues without a need to make large-scale changes 4-Reuse also enables faster development. Object-oriented programming languages come with rich libraries of objects, and code developed during projects is also reusable in future projects. 5-It provides a good framework for code libraries where the supplied software components can be easily adapted and modified by the programmer. This is particularly useful for developing graphical user interfaces. 6-Better Productivity as OOP techniques enforce rules on a programmer that, in the long run, help her get more work done; finished programs work better, have more features and are easier to read and maintain. OOP programmers take new and existing software objects and \"stitch\" them together to make new programs. Because object libraries contain many useful functions, software developers don't have to reinvent the wheel as often; more of their time goes into making the new program."
   ]
  },
  {
   "cell_type": "markdown",
   "metadata": {},
   "source": [
    "# Differentiate between Function and Method\n",
    "A function is a piece of code that is called by name. It can be passed data to operate on (i.e. the parameters) and can optionally return data (the return value). All data that is passed to a function is explicitly passed. A method is a piece of code that is called by a name that is associated with an object."
   ]
  },
  {
   "cell_type": "markdown",
   "metadata": {},
   "source": [
    "# Define the Terms:\n",
    "CLASS: In object-oriented programming , a class is a template definition of the method s and variable s in a particular kind of object . Thus, an object is a specific instance of a class; it contains real values instead of variables. OBJECT: In object-oriented programming (OOP), objects are the things you think about first in designing a program and they are also the units of code that are eventually derived from the process.Each object is an instance of a particular class or subclass with the class's own methods or procedures and data variables. CLASS: Class attributes are attributes which are owned by the class itself. They will be shared by all the instances of the class. Therefore they have the same value for every instance. We define class attributes outside of all the methods, usually they are placed at the top, right below the class header. BEHAVIOR: The behavior of an object is defined by its methods, which are the functions and subroutines defined within the object class. Without class methods, a class would simply be a structure. Methods determine what type of functionality a class has, how it modifies its data, and its overall behavior."
   ]
  },
  {
   "cell_type": "markdown",
   "metadata": {},
   "source": [
    "# Question:\n",
    "Write a code in python in which create a class named it Car which have 5 attributes such like (model, color and name etc.) and 3 methods. And create 5 object instance from that class."
   ]
  },
  {
   "cell_type": "code",
   "execution_count": 4,
   "metadata": {},
   "outputs": [
    {
     "name": "stdout",
     "output_type": "stream",
     "text": [
      "\n",
      "Owner =  Usman Ali\n",
      "Car =  Farrari\n",
      "Price =  200000\n",
      "\n",
      "Owner =  Rizwan Ali\n",
      "Car =  Honda\n",
      "Price =  100000\n",
      "\n",
      "Owner =  Zeeshan Ali\n",
      "Car =  Suzuki\n",
      "Price =  50000\n",
      "\n",
      "Owner =  Muhammad Aslam\n",
      "Car =  Benz\n",
      "Price =  30000000\n",
      "\n",
      "Owner =  Mani\n",
      "Car =  Benz\n",
      "Price =  30000000\n"
     ]
    }
   ],
   "source": [
    "class Car:\n",
    "    \n",
    "    def __init__(self, name, color,model,price,owner):\n",
    "        self.name = name\n",
    "        self.color = color\n",
    "        self.model = model\n",
    "        self.price = price\n",
    "        self.owner = owner\n",
    "        \n",
    "    def Owner(self):\n",
    "        print(\"\\nOwner =  \" + self.owner)\n",
    "        \n",
    "    def CarPrice(Name):\n",
    "        print(\"Car = \",Name.name)\n",
    "        print(\"Price = \",Name.price)\n",
    "        \n",
    "        \n",
    "    \n",
    "    \n",
    "c1 = Car(\"Farrari\",\"yellow\",2019,200000,\"Usman Ali\")  \n",
    "c1.Owner()\n",
    "c1.CarPrice()\n",
    "\n",
    "c2 = Car(\"Honda\",\"White\",2018,100000,\"Rizwan Ali\")  \n",
    "c2.Owner()\n",
    "c2.CarPrice()\n",
    "\n",
    "\n",
    "c3 = Car(\"Suzuki\",\"Red\",2015,50000,\"Zeeshan Ali\")  \n",
    "c3.Owner()\n",
    "c3.CarPrice()\n",
    "\n",
    "\n",
    "c4 = Car(\"Benz\",\"Black\",2017,30000000,\"Muhammad Aslam\")  \n",
    "c4.Owner()\n",
    "c4.CarPrice()\n",
    "\n",
    "\n",
    "c5 = Car(\"Mehran\",\"Pink\",2016,20000,\"Mani\")  \n",
    "c5.Owner()\n",
    "c4.CarPrice()"
   ]
  },
  {
   "cell_type": "code",
   "execution_count": null,
   "metadata": {},
   "outputs": [],
   "source": []
  },
  {
   "cell_type": "code",
   "execution_count": null,
   "metadata": {},
   "outputs": [],
   "source": []
  }
 ],
 "metadata": {
  "kernelspec": {
   "display_name": "Python 3",
   "language": "python",
   "name": "python3"
  },
  "language_info": {
   "codemirror_mode": {
    "name": "ipython",
    "version": 3
   },
   "file_extension": ".py",
   "mimetype": "text/x-python",
   "name": "python",
   "nbconvert_exporter": "python",
   "pygments_lexer": "ipython3",
   "version": "3.7.3"
  }
 },
 "nbformat": 4,
 "nbformat_minor": 2
}
